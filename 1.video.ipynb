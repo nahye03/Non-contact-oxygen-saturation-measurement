{
 "cells": [
  {
   "cell_type": "code",
   "metadata": {
    "pycharm": {
     "name": "#%%\n"
    }
   },
   "source": [
    "# 카메라로 촬영하면서 frame마다 이미지로 저장\n",
    "# 카메라로 촬영하면서 얼굴 검출하고 PPG 뽑고 계산하면 fps가 너무 낮아져서 먼저 frame별로 저장하고 저장된 이미지에서 계산함\n",
    "# 실험할때 데이터는 정확할 수록 좋기 때문에 이미지로 저장한 후에 처리를 함\n",
    "# 만약에 아에 실시간으로 계산해야하는 일이 있다면 fps 조절하고 바로 계산해도 됨\n",
    "\n",
    "# 아래 코드의 실험은 '2분 숨쉬기 - 1분 숨참기 - 2분 숨쉬기'인데\n",
    "# 실험 방법은 맞게 조절하면 됩니다!\n",
    "# 근데 보통 1분 숨참는게 최대이고 숨참는거 사이에 최소 2분 정도의 리프레쉬 구간이 필요한듯!\n",
    "\n",
    "# (*) 이렇게 표시한 부분들의 변수는 실험에 맞게 조절하면 됩니다!!"
   ],
   "execution_count": null,
   "outputs": []
  },
  {
   "cell_type": "code",
   "execution_count": null,
   "outputs": [],
   "source": [
    "import time\n",
    "import cv2\n",
    "import os"
   ],
   "metadata": {
    "collapsed": false,
    "pycharm": {
     "name": "#%%\n"
    }
   }
  },
  {
   "cell_type": "code",
   "execution_count": 2,
   "metadata": {},
   "outputs": [],
   "source": [
    "def video(images_path):\n",
    "    init_time = 0\n",
    "    curr_time = 0\n",
    "    prev_time = 0\n",
    "    count = 1\n",
    "    \n",
    "    cap = cv2.VideoCapture(0, cv2.CAP_DSHOW)\n",
    "    fps = 30 # (*)\n",
    "    \n",
    "    while True:\n",
    "        ret, frame = cap.read()\n",
    "        if curr_time == 0:\n",
    "            init_time = time.time()\n",
    "\n",
    "        #이미지로 frame 저장\n",
    "        if (ret == True) and (time.time() - prev_time > 1./ fps):\n",
    "            cv2.imwrite(images_path+'frame_%d_%s.png'%(count, time.strftime('%H-%M-%S')), frame, [cv2.IMWRITE_PNG_COMPRESSION, 0])\n",
    "\n",
    "        curr_time = time.time()\n",
    "        \n",
    "        time_len = curr_time - init_time\n",
    "        \n",
    "        if time_len > 300: #300sec(*) 시간 즉, 5분이 넘어가면 촬영 중지\n",
    "            cap.release()\n",
    "            print(f'run time: {curr_time - init_time}')\n",
    "            cv2.destroyAllWindows()\n",
    "            break\n",
    "\n",
    "        if (time_len >120 and time_len <180): #120s ~ 180s,(*) 즉 1분 동안 숨참기 시작한다는 표시해주는 부분\n",
    "            str = \"start!! : %d\"%(time_len%60)\n",
    "            cv2.putText(frame, str,(0, 50), cv2.FONT_HERSHEY_SIMPLEX, 1, (255, 0, 0),2)\n",
    "            \n",
    "        else:\n",
    "            str = \"breath : %d\"%(time_len%60)\n",
    "            cv2.putText(frame, str,(0, 50), cv2.FONT_HERSHEY_SIMPLEX, 1, (255, 0, 0),2)\n",
    "               \n",
    "        cv2.imshow('frame', frame)\n",
    "        \n",
    "        count += 1\n",
    "        if cv2.waitKey(1) == 27: #ESC key 누르면 끝남\n",
    "            cap.release()\n",
    "            cv2.destroyAllWindows()\n",
    "            break "
   ]
  },
  {
   "cell_type": "code",
   "execution_count": 5,
   "metadata": {
    "pycharm": {
     "name": "#%%\n"
    }
   },
   "outputs": [
    {
     "name": "stdout",
     "output_type": "stream",
     "text": [
      "run time: 300.0116877555847\n"
     ]
    }
   ],
   "source": [
    "path_num = 10 #(*) 이미지 저장 폴더명\n",
    "images_path = 'images_2/%d/'%path_num   #video 이미지 저장할 경로\n",
    "\n",
    "if not os.path.isdir(images_path):   # 폴더 있는지 확인하고 없으면 생성   \n",
    "    os.mkdir(images_path)\n",
    "    \n",
    "video(images_path)\n"
   ]
  }
 ],
 "metadata": {
  "kernelspec": {
   "display_name": "rppg",
   "language": "python",
   "name": "rppg"
  },
  "language_info": {
   "codemirror_mode": {
    "name": "ipython",
    "version": 3
   },
   "file_extension": ".py",
   "mimetype": "text/x-python",
   "name": "python",
   "nbconvert_exporter": "python",
   "pygments_lexer": "ipython3",
   "version": "3.7.10"
  }
 },
 "nbformat": 4,
 "nbformat_minor": 4
}