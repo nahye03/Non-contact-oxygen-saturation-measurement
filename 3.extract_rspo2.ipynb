{
 "cells": [
  {
   "cell_type": "code",
   "execution_count": null,
   "metadata": {
    "collapsed": true
   },
   "outputs": [],
   "source": [
    "# 추출한 raw ppg r,g,b 신호에서 산소포화도 값 추출하는 방법\n",
    "# rppg 신호 ---(계산)--> S 신호 ---(선형회귀)--> rspo2 신호\n",
    "# 비접촉식으로 추출한 산소포화도를 remote spo2 = rspo2로 지정\n",
    "# 센서로 측정한 spo2는 contact spo2 = cspo2로 지정"
   ]
  },
  {
   "cell_type": "code",
   "execution_count": null,
   "outputs": [],
   "source": [
    "import os\n",
    "import cv2\n",
    "import numpy as np\n",
    "import matplotlib.pyplot as plt\n",
    "\n",
    "from scipy import signal\n",
    "from scipy.signal import find_peaks\n",
    "import pandas as pd\n",
    "import csv\n",
    "\n",
    "from sklearn.linear_model import LinearRegression"
   ],
   "metadata": {
    "collapsed": false,
    "pycharm": {
     "name": "#%%\n"
    }
   }
  },
  {
   "cell_type": "code",
   "execution_count": null,
   "outputs": [],
   "source": [
    "def temporal_bandpass_filter(data, fs, minHz, maxHz):\n",
    "    try:\n",
    "        nyq = fs / 2\n",
    "        coef_vector = signal.butter(5, [minHz / nyq, maxHz / nyq], 'bandpass')\n",
    "        return signal.filtfilt(*coef_vector, data)\n",
    "    except ValueError:\n",
    "        return data\n",
    "\n",
    "def temporal_lowpass_filter(data, fs, minHz):\n",
    "    try:\n",
    "        nyq = fs / 2\n",
    "        coef_vector = signal.butter(5, minHz / nyq, 'lowpass')\n",
    "        return signal.filtfilt(*coef_vector, data)\n",
    "    except ValueError:\n",
    "        return data"
   ],
   "metadata": {
    "collapsed": false,
    "pycharm": {
     "name": "#%%\n"
    }
   }
  },
  {
   "cell_type": "markdown",
   "source": [
    "## 1.S값 추출"
   ],
   "metadata": {
    "collapsed": false,
    "pycharm": {
     "name": "#%% md\n"
    }
   }
  },
  {
   "cell_type": "code",
   "execution_count": null,
   "outputs": [],
   "source": [
    "num=8\n",
    "\n",
    "fs = 30 #framerate\n",
    "\n",
    "window_time = 10 #10초씩 분석\n",
    "window_size = window_time * fs\n",
    "\n",
    "f = open('E:/project/spo2/code/data/rppg/rppg_rgb%d.csv'%num, 'r').readlines()\n",
    "\n",
    "r_raw = [float(x) for x in f[0].split(',')]\n",
    "g_raw = [float(x) for x in f[1].split(',')]\n",
    "b_raw = [float(x) for x in f[2].split(',')]\n",
    "t_raw = [x for x in f[3].split(',')] #time\n",
    "#cspo2는 시간이 '시:분:초' 형식인데 rppg는 시간이 '시-분-초' 형식으로 저장되어서 이를 :로 바꿔줌\n",
    "t_raw = [i.replace(\"-\",\":\").strip(\"\\n\") for i in t_raw]\n",
    "\n",
    "#rppg 신호의 앞뒤를 자르고 싶으면 여기서 조정\n",
    "#보통 실험할 때 시작과 끝에는 노이즈가 많이 포함될 수 있어서 몇초씩 제거하고 하는 경우가 많음\n",
    "#여기서는 앞의 10초 제거\n",
    "r_crop = r_raw[10*fs:]\n",
    "g_crop = g_raw[10*fs:]\n",
    "b_crop = b_raw[10*fs:]\n",
    "cropped_t = t_raw[10*fs:]\n",
    "\n",
    "# RGB to YCgCr color space\n",
    "r_crop = np.array(r_crop)/255\n",
    "g_crop = np.array(g_crop)/255\n",
    "b_crop = np.array(b_crop)/255\n",
    "\n",
    "y = ((65.481*r_crop) + (128.553*g_crop) + (24.966*b_crop))+16\n",
    "cropped_cg = ((-81.085*r_crop) + (112*g_crop) + (-30.915*b_crop))+128\n",
    "cropped_cr = ((112*r_crop) + (-93.786*g_crop) + (-18.214*b_crop))+128\n",
    "#cbcr 할때는 이렇게 cb 구하면 됨\n",
    "# cropped_cb =((-37.797*r_crop) + (-74.203*g_crop) + (112*b_crop))+128\n",
    "\n",
    "# bandpass filter\n",
    "#최소 심박수 42bpm(0.7Hz)와 최대 심박수 180bpm(3Hz)로 심장박동 관련 신호만 추출\n",
    "cr_pass = temporal_bandpass_filter(cropped_cr, fs,0.7, 3)\n",
    "cg_pass = temporal_bandpass_filter(cropped_cg, fs, 0.7, 3)\n",
    "\n",
    "#ac 구하기\n",
    "step = len(cr_pass)-window_size+1\n",
    "ac_cr = []\n",
    "ac_cg = []\n",
    "for i in range(step):\n",
    "    cr_p = cr_pass[i:i+window_size]\n",
    "    cr_v = -cr_pass[i:i+window_size] #valley를 검출하기 위해서 신호 반전시킴\n",
    "    cg_p = cg_pass[i:i+window_size]\n",
    "    cg_v = -cg_pass[i:i+window_size]\n",
    "\n",
    "    cr_peaks, _ = find_peaks(cr_p, distance=15) #peak 검출\n",
    "    cr_valleys, _ = find_peaks(cr_v, distance=15) #valley 검출\n",
    "    cg_peaks, _ = find_peaks(cg_p, distance=15) #peak 검출\n",
    "    cg_valleys, _ = find_peaks(cg_v, distance=15) #valley 검출\n",
    "\n",
    "    #peak와 valley의 개수가 같지 않을 수 있어서 최소 개수 지정\n",
    "    cr_length = len(cr_peaks) if len(cr_peaks)<len(cr_valleys) else len(cr_valleys)\n",
    "    cg_length = len(cg_peaks) if len(cg_peaks)<len(cg_valleys) else len(cg_valleys)\n",
    "\n",
    "    cr_peak2valley =[]\n",
    "    cg_peak2valley =[]\n",
    "\n",
    "    #|valley 나누기 peak|\n",
    "    for r in range(cr_length):\n",
    "        ampl = np.abs(cr_p[cr_valleys[r]]/cr_p[cr_peaks[r]])\n",
    "        cr_peak2valley.append(ampl)\n",
    "\n",
    "    for g in range(cg_length):\n",
    "        ampl = np.abs(cg_p[cg_valleys[g]]/cg_p[cg_peaks[g]])\n",
    "        cg_peak2valley.append(ampl)\n",
    "\n",
    "    #중앙값 추출\n",
    "    #이는 노이즈를 막기 위해 중앙값 선택\n",
    "    ac_cr.append(np.median(cr_peak2valley))\n",
    "    ac_cg.append(np.median(cg_peak2valley))\n",
    "\n",
    "# log\n",
    "cr_log = np.log(np.array(ac_cr)+1)\n",
    "cg_log = np.log(np.array(ac_cg)+1)\n",
    "\n",
    "# 추세만 확인하기 위해 lowpass filtering 수행\n",
    "cr_cv = temporal_lowpass_filter(np.array(cr_log), fs, 0.05)\n",
    "cg_cv = temporal_lowpass_filter(np.array(cg_log), fs, 0.05)\n",
    "\n",
    "#ratio 구하기\n",
    "ratio = cr_cv/cg_cv\n",
    "\n",
    "#1초 단위로 합치기\n",
    "#cspo2가 1초씩 측정되는데 rspo2는 1초에도 값이 여러개이기 때문에 이 과정을 거침\n",
    "#S가 1초가 한번씩이도록 평균값으로 지정\n",
    "time = cropped_t[int(window_size):-1]\n",
    "now_t = time[0]\n",
    "ratio_sum = 0\n",
    "cnt = 0\n",
    "pred_spo2 = [] #최종 예측 rspo2\n",
    "pred_t = [] #최종 rspo2 time\n",
    "for i in range(len(time)):\n",
    "    if now_t==time[i]:\n",
    "        ratio_sum+= ratio[i]\n",
    "        cnt+=1\n",
    "    else:\n",
    "        pred_spo2.append(ratio_sum/cnt)\n",
    "        pred_t.append(now_t)\n",
    "\n",
    "        now_t = time[i]\n",
    "        ratio_sum = ratio[i]\n",
    "        cnt=1\n",
    "    if i == (len(time)-1):\n",
    "        pred_spo2.append(ratio_sum/cnt)\n",
    "        pred_t.append(now_t)\n",
    "\n",
    "#cSpO2 불러오기\n",
    "df = pd.read_csv('E:/project/spo2/code/data/cppg/cppg/%d.csv'%num)\n",
    "c_spo2 = df[\"SPO2\"]\n",
    "c_time = df[\"TIME\"]\n",
    "c_spo2 = np.array(c_spo2)\n",
    "c_time = np.array(c_time)\n",
    "c_t = [i.lstrip() for i in c_time]\n",
    "\n",
    "#cSpO2와 S 시간축 맞추기\n",
    "for i in range(len(c_t)):\n",
    "    if(pred_t[0]==c_t[i]):\n",
    "        start_t_index = i\n",
    "    if(pred_t[-1]==c_t[i]):\n",
    "        end_t_index = i\n",
    "        break\n",
    "\n",
    "label_t = c_t[start_t_index:end_t_index+1]\n",
    "label_spo2 = c_spo2[start_t_index:end_t_index+1]"
   ],
   "metadata": {
    "collapsed": false,
    "pycharm": {
     "name": "#%%\n"
    }
   }
  },
  {
   "cell_type": "markdown",
   "source": [
    "## 2.S 값과 cspo2 값 저장"
   ],
   "metadata": {
    "collapsed": false,
    "pycharm": {
     "name": "#%% md\n"
    }
   }
  },
  {
   "cell_type": "code",
   "execution_count": null,
   "outputs": [],
   "source": [
    "file_num = 20\n",
    "with open('C:/Users/02097/Desktop/spo2/data/pred/log_%d.csv'%file_num, 'w', newline='') as f:\n",
    "    wr = csv.writer(f)\n",
    "    wr.writerow(pred_spo2)\n",
    "    wr.writerow(pred_t)\n",
    "    f.close()\n",
    "\n",
    "with open('C:/Users/02097/Desktop/spo2/data/label/log_%d.csv'%file_num, 'w', newline='') as f:\n",
    "    wr = csv.writer(f)\n",
    "    wr.writerow(label_spo2)\n",
    "    wr.writerow(label_t)\n",
    "    f.close()"
   ],
   "metadata": {
    "collapsed": false,
    "pycharm": {
     "name": "#%%\n"
    }
   }
  },
  {
   "cell_type": "markdown",
   "source": [
    "## 3. S와 cspo2의 선형회귀(이건 처음에만)"
   ],
   "metadata": {
    "collapsed": false,
    "pycharm": {
     "name": "#%% md\n"
    }
   }
  },
  {
   "cell_type": "code",
   "execution_count": null,
   "outputs": [],
   "source": [
    "#데이터 불러오기(S값과 cspo2값)\n",
    "cgcr_pred = []\n",
    "label = []\n",
    "for i in range(1, 6):\n",
    "    file_num = i\n",
    "    label_path = 'E:/project/spo2/code/data/pred/log_%d.csv'%file_num\n",
    "    label_file = open(label_path,'r').readlines()\n",
    "    for x in label_file[0].split(','):\n",
    "        label.append(float(x))\n",
    "\n",
    "    pred_path = 'E:/project/spo2/code/data/label/log_%d.csv'%file_num\n",
    "    pred_file = open(pred_path,'r').readlines()\n",
    "    for x in pred_file[0].split(','):\n",
    "        cgcr_pred.append(float(x))\n",
    "\n",
    "#선형회귀\n",
    "pred_ = np.array(cgcr_pred).reshape(-1,1)\n",
    "\n",
    "model = LinearRegression()\n",
    "model.fit(pred_, label)\n",
    "model.intercept_ , model.coef_"
   ],
   "metadata": {
    "collapsed": false,
    "pycharm": {
     "name": "#%%\n"
    }
   }
  },
  {
   "cell_type": "markdown",
   "source": [
    "## 4. 선형회귀 결과"
   ],
   "metadata": {
    "collapsed": false
   }
  },
  {
   "cell_type": "code",
   "execution_count": null,
   "outputs": [],
   "source": [
    "cgcr_pred_ = np.array(cgcr_pred).reshape(-1,1)\n",
    "cgcr_spo2 = 79.1914 + cgcr_pred_* 11.8805\n",
    "#cbcr_spo2 = 7.4032 * cbcr_pred_ +87.9765 #cbcr로 했을 경우 선형회귀 결과\n"
   ],
   "metadata": {
    "collapsed": false,
    "pycharm": {
     "name": "#%%\n"
    }
   }
  },
  {
   "cell_type": "markdown",
   "source": [
    "## 5. rspo2와 cspo2 저장"
   ],
   "metadata": {
    "collapsed": false
   }
  },
  {
   "cell_type": "code",
   "execution_count": null,
   "outputs": [],
   "source": [
    "with open('C:/Users/02097/Desktop/spo2/data/graph_signal/signal.csv', 'w', newline='') as f:\n",
    "    wr = csv.writer(f)\n",
    "    wr.writerow(label)\n",
    "    wr.writerow(cgcr_spo2.flatten())\n",
    "    f.close()"
   ],
   "metadata": {
    "collapsed": false,
    "pycharm": {
     "name": "#%%\n"
    }
   }
  }
 ],
 "metadata": {
  "kernelspec": {
   "display_name": "Python 3",
   "language": "python",
   "name": "python3"
  },
  "language_info": {
   "codemirror_mode": {
    "name": "ipython",
    "version": 2
   },
   "file_extension": ".py",
   "mimetype": "text/x-python",
   "name": "python",
   "nbconvert_exporter": "python",
   "pygments_lexer": "ipython2",
   "version": "2.7.6"
  }
 },
 "nbformat": 4,
 "nbformat_minor": 0
}